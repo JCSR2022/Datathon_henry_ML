{
 "cells": [
  {
   "cell_type": "code",
   "execution_count": null,
   "metadata": {},
   "outputs": [],
   "source": [
    "#Se consiguen todas las coordendas para las direcciones hasta L3\n",
    "\n",
    "import pandas as pd\n",
    "import time\n",
    "from IPython.display import clear_output\n",
    "from geopy.geocoders import Nominatim\n",
    "\n",
    "data = pd.read_parquet('datos/data_train.parquet')\n",
    "\n",
    "geolocalizador  = Nominatim(user_agent=\"email@email.com\")\n",
    "\n",
    "direcc2 = \"Colombia,\"+ data['l2']+ \",\" + data['l3']\n",
    "direcc2.dropna(inplace=True)\n",
    "provincias = list(direcc2.unique())\n",
    "lat_provincias = []\n",
    "long_provincias =[]\n",
    "i = 0\n",
    "i_max = len(provincias)\n",
    "for provincia in provincias:\n",
    "    i = i + 1\n",
    "    clear_output(wait=True)\n",
    "    print('Completado: ' + str(round(i / i_max * 100, 2)) + '%')\n",
    "    try:\n",
    "        location = geolocalizador.geocode(provincia)\n",
    "        time.sleep(1)     #Hay que darle tiempo a que responda sino da error siempre\n",
    "        lat_provincias.append(location.latitude)\n",
    "        long_provincias.append(location.longitude)\n",
    "    except:\n",
    "        lat_provincias.append(0)\n",
    "        long_provincias.append(0)\n",
    "\n",
    "l2 = []\n",
    "l3 = []\n",
    "for direcciones in provincias:\n",
    "    l2.append(direcciones.split(sep=',')[1].strip())\n",
    "    l3.append(direcciones.split(sep=',')[2].strip())\n",
    "relacion_Prov_coord2 = pd.DataFrame(list(zip(l2,l3,lat_provincias,long_provincias)),columns = ['l2','l3','lat','lon'])\n",
    "\n",
    "#Se revisa si hubo errores, se corrigen de forma manual y se guarda archivo\n",
    "relacion_Prov_coord2.loc[relacion_Prov_coord[\"lat\"] == 0]\n",
    "#correcion manual si hace falta , por ejemplo:\n",
    "# coordenada faltante en fila 273 se busca la dir en google digamos: \"4.8608234,-74.9214222\"\n",
    "#relacion_Prov_coord2.iloc[273,1] = 4.8608234\n",
    "#relacion_Prov_coord2.iloc[273,2] = -74.9214222\n",
    "#relacion_Prov_coord2.iloc[272:275,:]\n",
    "relacion_Prov_coord2.to_csv(\"relacion_Prov_coord2.csv\",index=False)"
   ]
  }
 ],
 "metadata": {
  "kernelspec": {
   "display_name": "Python 3.10.5 64-bit",
   "language": "python",
   "name": "python3"
  },
  "language_info": {
   "name": "python",
   "version": "3.10.5"
  },
  "orig_nbformat": 4,
  "vscode": {
   "interpreter": {
    "hash": "2a8dfe095fce2b5e88c64a2c3ee084c8e0e0d70b23e7b95b1cfb538be294c5c8"
   }
  }
 },
 "nbformat": 4,
 "nbformat_minor": 2
}
